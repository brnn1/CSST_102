{
  "nbformat": 4,
  "nbformat_minor": 0,
  "metadata": {
    "colab": {
      "provenance": [],
      "include_colab_link": true
    },
    "kernelspec": {
      "name": "python3",
      "display_name": "Python 3"
    },
    "language_info": {
      "name": "python"
    }
  },
  "cells": [
    {
      "cell_type": "markdown",
      "metadata": {
        "id": "view-in-github",
        "colab_type": "text"
      },
      "source": [
        "<a href=\"https://colab.research.google.com/github/brnn1/CSST_102/blob/main/3A_DELFIN_EXER3.ipynb\" target=\"_parent\"><img src=\"https://colab.research.google.com/assets/colab-badge.svg\" alt=\"Open In Colab\"/></a>"
      ]
    },
    {
      "cell_type": "code",
      "execution_count": null,
      "metadata": {
        "colab": {
          "base_uri": "https://localhost:8080/"
        },
        "id": "y82ANT1C2jMV",
        "outputId": "f8e04453-b3d9-4b5a-8b93-848297f672a4"
      },
      "outputs": [
        {
          "output_type": "stream",
          "name": "stdout",
          "text": [
            "0.2794117647058823\n"
          ]
        }
      ],
      "source": [
        "import numpy as np\n",
        "\n",
        "P_disease = 0.02\n",
        "P_have_disease = 0.95\n",
        "P_nodisease = 0.05\n",
        "\n",
        "P_positive = (P_have_disease * P_disease) + (P_nodisease * (1 - P_disease))\n",
        "\n",
        "P_positive_disease = P_have_disease * P_disease / P_positive\n",
        "\n",
        "print(P_positive_disease)"
      ]
    },
    {
      "cell_type": "code",
      "source": [
        "P_success = 0.7\n",
        "benefit = 100\n",
        "P_fail = 0.3\n",
        "loss = 50\n",
        "\n",
        "P_success_benefit = P_success * benefit + P_fail * loss\n",
        "\n",
        "print(P_success_benefit)"
      ],
      "metadata": {
        "colab": {
          "base_uri": "https://localhost:8080/"
        },
        "id": "2KpaT8dpIm2v",
        "outputId": "9b1354c0-dbd2-47e6-e8fe-bccc46a11518"
      },
      "execution_count": null,
      "outputs": [
        {
          "output_type": "stream",
          "name": "stdout",
          "text": [
            "85.0\n"
          ]
        }
      ]
    },
    {
      "cell_type": "code",
      "source": [
        "import matplotlib.pyplot as plt\n",
        "from scipy.stats import binom\n",
        "\n",
        "n_flips = 5\n",
        "p_heads = 0.5\n",
        "\n",
        "x = np.arange(0, n_flips + 1)\n",
        "\n",
        "pmf = binom.pmf(x, n_flips, p_heads)\n",
        "\n",
        "plt.bar(x, pmf, color = 'blue', alpha = 0.7)\n",
        "plt.xticks(x)\n",
        "plt.xlabel('Number of Heads')\n",
        "plt.ylabel('Probability')\n",
        "plt.title('Binomial Distribution')\n",
        "plt.grid(axis='y')\n",
        "plt.show()"
      ],
      "metadata": {
        "colab": {
          "base_uri": "https://localhost:8080/",
          "height": 472
        },
        "id": "iYoo8yjFLJd7",
        "outputId": "322404e8-2275-4713-c072-2c3b07b3a96f"
      },
      "execution_count": null,
      "outputs": [
        {
          "output_type": "display_data",
          "data": {
            "text/plain": [
              "<Figure size 640x480 with 1 Axes>"
            ],
            "image/png": "[encoded data removed]"
          },
          "metadata": {}
        }
      ]
    },
    {
      "cell_type": "markdown",
      "source": [
        "#Reflection\n",
        "\n",
        "\n",
        "Probability theory has been crucial in the medical field as it enables quantification of uncertainty and assessment of the risk of diagnosis and treatment. Through probabilistic models, a clinician will determine how possible is the patient's condition based on the manifestations of the patient, test results, and other relevant factors. This helps the clinician in prioritizing various diagnoses to be made and selecting the best treatments, which involves strategizing how best to make use of the resources that may be available for delivery. Ultimately, this helps improve the quality of decision-making on the patient and, in general, helps to optimize healthcare operations."
      ],
      "metadata": {
        "id": "KPUKvKa8QoZm"
      }
    }
  ]
}